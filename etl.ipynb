{
  "nbformat": 4,
  "nbformat_minor": 0,
  "metadata": {
    "colab": {
      "name": "etl.ipynb",
      "provenance": [],
      "authorship_tag": "ABX9TyN5zv3AKFEZuBj+drrjSBgq",
      "include_colab_link": true
    },
    "kernelspec": {
      "name": "python3",
      "display_name": "Python 3"
    }
  },
  "cells": [
    {
      "cell_type": "markdown",
      "metadata": {
        "id": "view-in-github",
        "colab_type": "text"
      },
      "source": [
        "<a href=\"https://colab.research.google.com/github/yemauricio/caramelo/blob/main/etl.ipynb\" target=\"_parent\"><img src=\"https://colab.research.google.com/assets/colab-badge.svg\" alt=\"Open In Colab\"/></a>"
      ]
    },
    {
      "cell_type": "markdown",
      "metadata": {
        "id": "1TNDpXNLz76T"
      },
      "source": [
        "## Ejecucion manual de etl caramelo"
      ]
    },
    {
      "cell_type": "markdown",
      "metadata": {
        "id": "qNk_TEV-0AHZ"
      },
      "source": [
        "### Clonar repositorio"
      ]
    },
    {
      "cell_type": "code",
      "metadata": {
        "id": "ZOsksBSezqdA"
      },
      "source": [
        "git clone https://github.com/yemauricio/caramelo"
      ],
      "execution_count": null,
      "outputs": []
    },
    {
      "cell_type": "code",
      "metadata": {
        "id": "kQ-AtnhS0Dcv"
      },
      "source": [
        ""
      ],
      "execution_count": null,
      "outputs": []
    },
    {
      "cell_type": "code",
      "metadata": {
        "id": "-IL0zi3bzrqA"
      },
      "source": [
        ""
      ],
      "execution_count": null,
      "outputs": []
    },
    {
      "cell_type": "code",
      "metadata": {
        "id": "BWNObQq3zW4P"
      },
      "source": [
        "cd caramelo/"
      ],
      "execution_count": null,
      "outputs": []
    },
    {
      "cell_type": "code",
      "metadata": {
        "colab": {
          "base_uri": "https://localhost:8080/"
        },
        "id": "C2lGluEsvYxm",
        "outputId": "51e646f6-8ec2-49d7-fee3-ce4c4c67d17d"
      },
      "source": [
        ""
      ],
      "execution_count": 1,
      "outputs": [
        {
          "output_type": "stream",
          "text": [
            "/content\n"
          ],
          "name": "stdout"
        }
      ]
    },
    {
      "cell_type": "code",
      "metadata": {
        "id": "vl5_cxVLvank"
      },
      "source": [
        "%run -i 'etl.py'"
      ],
      "execution_count": null,
      "outputs": []
    },
    {
      "cell_type": "code",
      "metadata": {
        "colab": {
          "base_uri": "https://localhost:8080/"
        },
        "id": "3fzqspk5zKvo",
        "outputId": "144bece6-cd92-4154-c5ac-d402675fda91"
      },
      "source": [
        "cd resultado/\r\n"
      ],
      "execution_count": null,
      "outputs": [
        {
          "output_type": "stream",
          "text": [
            "/content/caramelo/resultado\n"
          ],
          "name": "stdout"
        }
      ]
    },
    {
      "cell_type": "code",
      "metadata": {
        "colab": {
          "base_uri": "https://localhost:8080/"
        },
        "id": "lIqulAEszN6Z",
        "outputId": "20ddc877-9ef7-438f-c3aa-7e0ac659fb6f"
      },
      "source": [
        "ls -la"
      ],
      "execution_count": 2,
      "outputs": [
        {
          "output_type": "stream",
          "text": [
            "total 16\n",
            "drwxr-xr-x 1 root root 4096 Jan 20 17:27 \u001b[0m\u001b[01;34m.\u001b[0m/\n",
            "drwxr-xr-x 1 root root 4096 Jan 25 23:07 \u001b[01;34m..\u001b[0m/\n",
            "drwxr-xr-x 1 root root 4096 Jan 20 17:27 \u001b[01;34m.config\u001b[0m/\n",
            "drwxr-xr-x 1 root root 4096 Jan 20 17:27 \u001b[01;34msample_data\u001b[0m/\n"
          ],
          "name": "stdout"
        }
      ]
    },
    {
      "cell_type": "code",
      "metadata": {
        "id": "RHaChuotzPG8"
      },
      "source": [
        ""
      ],
      "execution_count": null,
      "outputs": []
    }
  ]
}