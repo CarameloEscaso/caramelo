{
  "nbformat": 4,
  "nbformat_minor": 0,
  "metadata": {
    "colab": {
      "name": "etl.ipynb",
      "provenance": [],
      "authorship_tag": "ABX9TyMEb0US3UqrQSYozKHt3mak",
      "include_colab_link": true
    },
    "kernelspec": {
      "name": "python3",
      "display_name": "Python 3"
    }
  },
  "cells": [
    {
      "cell_type": "markdown",
      "metadata": {
        "id": "view-in-github",
        "colab_type": "text"
      },
      "source": [
        "<a href=\"https://colab.research.google.com/github/yemauricio/caramelo/blob/main/etl.ipynb\" target=\"_parent\"><img src=\"https://colab.research.google.com/assets/colab-badge.svg\" alt=\"Open In Colab\"/></a>"
      ]
    },
    {
      "cell_type": "markdown",
      "metadata": {
        "id": "LeL1e_qq0Za3"
      },
      "source": [
        "## Ejecución Manual ETL caramelo"
      ]
    },
    {
      "cell_type": "markdown",
      "metadata": {
        "id": "INoKBSDX0evV"
      },
      "source": [
        "### Clonar repositorio"
      ]
    },
    {
      "cell_type": "code",
      "metadata": {
        "id": "0gX9pcKU0eZN",
        "outputId": "5fbded0a-22e1-4247-c83e-cbd343f42dda",
        "colab": {
          "base_uri": "https://localhost:8080/"
        }
      },
      "source": [
        "! git clone https://github.com/yemauricio/caramelo.git"
      ],
      "execution_count": 6,
      "outputs": [
        {
          "output_type": "stream",
          "text": [
            "Cloning into 'caramelo'...\n",
            "fatal: could not read Username for 'https://github.com': No such device or address\n"
          ],
          "name": "stdout"
        }
      ]
    },
    {
      "cell_type": "code",
      "metadata": {
        "id": "BWNObQq3zW4P"
      },
      "source": [
        "cd caramelo/"
      ],
      "execution_count": null,
      "outputs": []
    },
    {
      "cell_type": "code",
      "metadata": {
        "colab": {
          "base_uri": "https://localhost:8080/"
        },
        "id": "C2lGluEsvYxm",
        "outputId": "d0916e45-6a48-48fe-c705-d8f69f6ea32b"
      },
      "source": [
        "!pwd"
      ],
      "execution_count": null,
      "outputs": [
        {
          "output_type": "stream",
          "text": [
            "/content/caramelo\n"
          ],
          "name": "stdout"
        }
      ]
    },
    {
      "cell_type": "code",
      "metadata": {
        "id": "vl5_cxVLvank"
      },
      "source": [
        "%run -i 'etl.py'"
      ],
      "execution_count": null,
      "outputs": []
    },
    {
      "cell_type": "code",
      "metadata": {
        "colab": {
          "base_uri": "https://localhost:8080/"
        },
        "id": "3fzqspk5zKvo",
        "outputId": "144bece6-cd92-4154-c5ac-d402675fda91"
      },
      "source": [
        "cd resultado/\r\n"
      ],
      "execution_count": null,
      "outputs": [
        {
          "output_type": "stream",
          "text": [
            "/content/caramelo/resultado\n"
          ],
          "name": "stdout"
        }
      ]
    },
    {
      "cell_type": "code",
      "metadata": {
        "colab": {
          "base_uri": "https://localhost:8080/"
        },
        "id": "lIqulAEszN6Z",
        "outputId": "6cf583ca-1748-4847-b109-cb7892398be9"
      },
      "source": [
        "ls -la"
      ],
      "execution_count": null,
      "outputs": [
        {
          "output_type": "stream",
          "text": [
            "total 380\n",
            "drwxr-xr-x 2 root root   4096 Jan 25 22:57 \u001b[0m\u001b[01;34m.\u001b[0m/\n",
            "drwxr-xr-x 7 root root   4096 Jan 25 22:48 \u001b[01;34m..\u001b[0m/\n",
            "-rw-r--r-- 1 root root    989 Jan 25 22:57 case_actuaciones.txt\n",
            "-rw-r--r-- 1 root root   2243 Jan 25 22:57 case_preguntas.txt\n",
            "-rw-r--r-- 1 root root 264415 Jan 25 22:57 correlacion_variables.csv\n",
            "-rw-r--r-- 1 root root  86883 Jan 25 22:57 id_puntajes.csv\n",
            "-rw-r--r-- 1 root root  13734 Jan 25 22:55 resultado.csv\n"
          ],
          "name": "stdout"
        }
      ]
    },
    {
      "cell_type": "code",
      "metadata": {
        "id": "RHaChuotzPG8"
      },
      "source": [
        ""
      ],
      "execution_count": null,
      "outputs": []
    }
  ]
}