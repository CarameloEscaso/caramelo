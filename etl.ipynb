{
  "nbformat": 4,
  "nbformat_minor": 0,
  "metadata": {
    "colab": {
      "name": "etl.ipynb",
      "provenance": [],
      "toc_visible": true,
      "authorship_tag": "ABX9TyPZr7/UtsqPMyPww3mzM2+3",
      "include_colab_link": true
    },
    "kernelspec": {
      "name": "python3",
      "display_name": "Python 3"
    }
  },
  "cells": [
    {
      "cell_type": "markdown",
      "metadata": {
        "id": "view-in-github",
        "colab_type": "text"
      },
      "source": [
        "<a href=\"https://colab.research.google.com/github/yemauricio/caramelo/blob/main/etl.ipynb\" target=\"_parent\"><img src=\"https://colab.research.google.com/assets/colab-badge.svg\" alt=\"Open In Colab\"/></a>"
      ]
    },
    {
      "cell_type": "markdown",
      "metadata": {
        "id": "LeL1e_qq0Za3"
      },
      "source": [
        "## Ejecución Manual ETL caramelo"
      ]
    },
    {
      "cell_type": "markdown",
      "metadata": {
        "id": "INoKBSDX0evV"
      },
      "source": [
        "### Clonar repositorio"
      ]
    },
    {
      "cell_type": "code",
      "metadata": {
        "id": "0gX9pcKU0eZN",
        "colab": {
          "base_uri": "https://localhost:8080/"
        },
        "outputId": "0a769073-6f91-4aa0-c96b-c2ee8726a4d2"
      },
      "source": [
        "! git clone https://github.com/yemauricio/caramelo.git"
      ],
      "execution_count": 13,
      "outputs": [
        {
          "output_type": "stream",
          "text": [
            "Cloning into 'caramelo'...\n",
            "remote: Enumerating objects: 110, done.\u001b[K\n",
            "remote: Counting objects: 100% (110/110), done.\u001b[K\n",
            "remote: Compressing objects: 100% (94/94), done.\u001b[K\n",
            "remote: Total 110 (delta 37), reused 68 (delta 10), pack-reused 0\u001b[K\n",
            "Receiving objects: 100% (110/110), 1.10 MiB | 18.10 MiB/s, done.\n",
            "Resolving deltas: 100% (37/37), done.\n"
          ],
          "name": "stdout"
        }
      ]
    },
    {
      "cell_type": "code",
      "metadata": {
        "id": "BWNObQq3zW4P",
        "outputId": "a341d3ee-63d3-4642-da6c-d13ee78e1e7d",
        "colab": {
          "base_uri": "https://localhost:8080/"
        }
      },
      "source": [
        "cd caramelo/"
      ],
      "execution_count": 14,
      "outputs": [
        {
          "output_type": "stream",
          "text": [
            "/content/caramelo\n"
          ],
          "name": "stdout"
        }
      ]
    },
    {
      "cell_type": "code",
      "metadata": {
        "colab": {
          "base_uri": "https://localhost:8080/"
        },
        "id": "C2lGluEsvYxm",
        "outputId": "9b0fc165-891b-406e-d95a-a3d306378e1e"
      },
      "source": [
        "!pwd"
      ],
      "execution_count": 15,
      "outputs": [
        {
          "output_type": "stream",
          "text": [
            "/content/caramelo\n"
          ],
          "name": "stdout"
        }
      ]
    },
    {
      "cell_type": "code",
      "metadata": {
        "id": "vl5_cxVLvank",
        "outputId": "73594971-c4d5-4608-ff91-071f8ef64401",
        "colab": {
          "base_uri": "https://localhost:8080/"
        }
      },
      "source": [
        "%run -i 'etl.py'\r\n",
        "%timeit"
      ],
      "execution_count": 19,
      "outputs": [
        {
          "output_type": "stream",
          "text": [
            "ERROR:root:File `'etl.py'` not found.\n"
          ],
          "name": "stderr"
        }
      ]
    },
    {
      "cell_type": "code",
      "metadata": {
        "id": "ZJBkvlEB4LY6",
        "outputId": "97fa7cf5-097d-40b1-cab3-c4bd523024a3",
        "colab": {
          "base_uri": "https://localhost:8080/"
        }
      },
      "source": [
        "cd resultado/"
      ],
      "execution_count": 18,
      "outputs": [
        {
          "output_type": "stream",
          "text": [
            "/content/caramelo/resultado\n"
          ],
          "name": "stdout"
        }
      ]
    },
    {
      "cell_type": "code",
      "metadata": {
        "colab": {
          "base_uri": "https://localhost:8080/"
        },
        "id": "lIqulAEszN6Z",
        "outputId": "7b626020-d770-42d0-f50b-02450b51fcd7"
      },
      "source": [
        "ls -la"
      ],
      "execution_count": 17,
      "outputs": [
        {
          "output_type": "stream",
          "text": [
            "total 80\n",
            "drwxr-xr-x 7 root root  4096 Jan 25 23:25 \u001b[0m\u001b[01;34m.\u001b[0m/\n",
            "drwxr-xr-x 1 root root  4096 Jan 25 23:25 \u001b[01;34m..\u001b[0m/\n",
            "drwxr-xr-x 2 root root  4096 Jan 25 23:25 \u001b[01;34mcatalogos\u001b[0m/\n",
            "-rw-r--r-- 1 root root  4317 Jan 25 23:25 etl.ipynb\n",
            "-rw-r--r-- 1 root root 16439 Jan 25 23:25 etl.py\n",
            "-rw-r--r-- 1 root root   132 Jan 25 23:25 etl_resultado.bat\n",
            "drwxr-xr-x 8 root root  4096 Jan 25 23:25 \u001b[01;34m.git\u001b[0m/\n",
            "drwxr-xr-x 2 root root  4096 Jan 25 23:25 \u001b[01;34minsumo\u001b[0m/\n",
            "-rw-r--r-- 1 root root 11357 Jan 25 23:25 LICENSE\n",
            "-rw-r--r-- 1 root root   462 Jan 25 23:25 README.md\n",
            "-rw-r--r-- 1 root root    29 Jan 25 23:25 requirements.txt\n",
            "drwxr-xr-x 2 root root  4096 Jan 25 23:27 \u001b[01;34mresultado\u001b[0m/\n",
            "drwxr-xr-x 2 root root  4096 Jan 25 23:25 \u001b[01;34mvistas\u001b[0m/\n"
          ],
          "name": "stdout"
        }
      ]
    },
    {
      "cell_type": "code",
      "metadata": {
        "id": "RHaChuotzPG8"
      },
      "source": [
        ""
      ],
      "execution_count": null,
      "outputs": []
    }
  ]
}