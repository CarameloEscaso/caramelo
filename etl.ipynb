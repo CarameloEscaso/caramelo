{
  "nbformat": 4,
  "nbformat_minor": 0,
  "metadata": {
    "colab": {
      "name": "etl.ipynb",
      "provenance": [],
      "toc_visible": true,
      "authorship_tag": "ABX9TyNXlH6/frGhPuYQcVeSxfkI",
      "include_colab_link": true
    },
    "kernelspec": {
      "name": "python3",
      "display_name": "Python 3"
    }
  },
  "cells": [
    {
      "cell_type": "markdown",
      "metadata": {
        "id": "view-in-github",
        "colab_type": "text"
      },
      "source": [
        "<a href=\"https://colab.research.google.com/github/yemauricio/caramelo/blob/main/etl.ipynb\" target=\"_parent\"><img src=\"https://colab.research.google.com/assets/colab-badge.svg\" alt=\"Open In Colab\"/></a>"
      ]
    },
    {
      "cell_type": "markdown",
      "metadata": {
        "id": "LeL1e_qq0Za3"
      },
      "source": [
        "## Ejecución Manual ETL caramelo"
      ]
    },
    {
      "cell_type": "markdown",
      "metadata": {
        "id": "INoKBSDX0evV"
      },
      "source": [
        "### Clonar repositorio"
      ]
    },
    {
      "cell_type": "code",
      "metadata": {
        "id": "0gX9pcKU0eZN",
        "colab": {
          "base_uri": "https://localhost:8080/"
        },
        "outputId": "77ad6da3-89ae-4d83-b51c-1e47c1a84e61"
      },
      "source": [
        "! git clone https://github.com/yemauricio/caramelo.git"
      ],
      "execution_count": 5,
      "outputs": [
        {
          "output_type": "stream",
          "text": [
            "Cloning into 'caramelo'...\n",
            "remote: Enumerating objects: 119, done.\u001b[K\n",
            "remote: Counting objects: 100% (119/119), done.\u001b[K\n",
            "remote: Compressing objects: 100% (103/103), done.\u001b[K\n",
            "remote: Total 119 (delta 42), reused 68 (delta 10), pack-reused 0\u001b[K\n",
            "Receiving objects: 100% (119/119), 1.10 MiB | 13.57 MiB/s, done.\n",
            "Resolving deltas: 100% (42/42), done.\n"
          ],
          "name": "stdout"
        }
      ]
    },
    {
      "cell_type": "code",
      "metadata": {
        "id": "BWNObQq3zW4P",
        "colab": {
          "base_uri": "https://localhost:8080/"
        },
        "outputId": "bdeba33c-3232-4597-da34-4dc16c3148d9"
      },
      "source": [
        "cd caramelo/"
      ],
      "execution_count": 6,
      "outputs": [
        {
          "output_type": "stream",
          "text": [
            "/caramelo\n"
          ],
          "name": "stdout"
        }
      ]
    },
    {
      "cell_type": "code",
      "metadata": {
        "colab": {
          "base_uri": "https://localhost:8080/"
        },
        "id": "C2lGluEsvYxm",
        "outputId": "a897a97e-bce1-4082-a2d9-66f1deab1fd9"
      },
      "source": [
        "!pwd"
      ],
      "execution_count": 7,
      "outputs": [
        {
          "output_type": "stream",
          "text": [
            "/caramelo\n"
          ],
          "name": "stdout"
        }
      ]
    },
    {
      "cell_type": "code",
      "metadata": {
        "id": "UJPV-Tjq6lsC"
      },
      "source": [
        "%run -i 'etl_colab.py'"
      ],
      "execution_count": 9,
      "outputs": []
    },
    {
      "cell_type": "code",
      "metadata": {
        "id": "RpbXTKz26pgF",
        "outputId": "8f71bf49-4cad-4dca-8983-20891e8a5a0a",
        "colab": {
          "base_uri": "https://localhost:8080/"
        }
      },
    {
      "cell_type": "code",
      "metadata": {
        "id": "ZJBkvlEB4LY6",
        "colab": {
          "base_uri": "https://localhost:8080/"
        },
        "outputId": "57b9f7f2-4b93-4e0c-bdbc-69a8133d64c0"
      },
      "source": [
        "cd resultado/"
      ],
      "execution_count": 11,
      "outputs": [
        {
          "output_type": "stream",
          "text": [
            "/caramelo/resultado\n"
          ],
          "name": "stdout"
        }
      ]
    },
    {
      "cell_type": "code",
      "metadata": {
        "colab": {
          "base_uri": "https://localhost:8080/"
        },
        "id": "lIqulAEszN6Z",
        "outputId": "2a02aef3-c2bf-4aff-a606-01da7902194e"
      },
      "source": [
        "ls -la"
      ],
      "execution_count": 12,
      "outputs": [
        {
          "output_type": "stream",
          "text": [
            "total 380\n",
            "drwxr-xr-x 2 root root   4096 Jan 25 23:49 \u001b[0m\u001b[01;34m.\u001b[0m/\n",
            "drwxr-xr-x 7 root root   4096 Jan 25 23:47 \u001b[01;34m..\u001b[0m/\n",
            "-rw-r--r-- 1 root root    989 Jan 25 23:49 case_actuaciones.txt\n",
            "-rw-r--r-- 1 root root   2243 Jan 25 23:49 case_preguntas.txt\n",
            "-rw-r--r-- 1 root root 264415 Jan 25 23:49 correlacion_variables.csv\n",
            "-rw-r--r-- 1 root root  86883 Jan 25 23:49 id_puntajes.csv\n",
            "-rw-r--r-- 1 root root  13734 Jan 25 23:47 resultado.csv\n"
          ],
          "name": "stdout"
        }
      ]
    },
    {
      "cell_type": "code",
      "metadata": {
        "id": "jN4T4Zrd8iuw"
      },
      "source": [
        ""
      ],
      "execution_count": null,
      "outputs": []
    }
  ]
}
