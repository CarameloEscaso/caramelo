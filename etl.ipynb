{
  "nbformat": 4,
  "nbformat_minor": 0,
  "metadata": {
    "colab": {
      "name": "etl.ipynb",
      "provenance": [],
      "include_colab_link": true
    },
    "kernelspec": {
      "name": "python3",
      "display_name": "Python 3"
    }
  },
  "cells": [
    {
      "cell_type": "markdown",
      "metadata": {
        "id": "view-in-github",
        "colab_type": "text"
      },
      "source": [
        "<a href=\"https://colab.research.google.com/github/yemauricio/caramelo/blob/main/etl.ipynb\" target=\"_parent\"><img src=\"https://colab.research.google.com/assets/colab-badge.svg\" alt=\"Open In Colab\"/></a>"
      ]
    },
    {
      "cell_type": "markdown",
      "metadata": {
        "id": "LeL1e_qq0Za3"
      },
      "source": [
        "## Ejecución Manual ETL caramelo"
      ]
    },
    {
      "cell_type": "markdown",
      "metadata": {
        "id": "INoKBSDX0evV"
      },
      "source": [
        "### Clonar repositorio"
      ]
    },
    {
      "cell_type": "code",
      "metadata": {
        "id": "0gX9pcKU0eZN",
        "colab": {
          "base_uri": "https://localhost:8080/"
        },
        "outputId": "1978076f-4343-4186-f0f2-d3d48445e62c"
      },
      "source": [
        "! git clone https://github.com/yemauricio/caramelo.git"
      ],
      "execution_count": 14,
      "outputs": [
        {
          "output_type": "stream",
          "name": "stdout",
          "text": [
            "Cloning into 'caramelo'...\n",
            "remote: Enumerating objects: 203, done.\u001b[K\n",
            "remote: Counting objects: 100% (203/203), done.\u001b[K\n",
            "remote: Compressing objects: 100% (173/173), done.\u001b[K\n",
            "remote: Total 203 (delta 85), reused 101 (delta 20), pack-reused 0\u001b[K\n",
            "Receiving objects: 100% (203/203), 3.58 MiB | 15.62 MiB/s, done.\n",
            "Resolving deltas: 100% (85/85), done.\n"
          ]
        }
      ]
    },
    {
      "cell_type": "code",
      "metadata": {
        "id": "BWNObQq3zW4P",
        "colab": {
          "base_uri": "https://localhost:8080/"
        },
        "outputId": "cc7da7d1-00ee-4b45-eb22-81d530bcdd4f"
      },
      "source": [
        "cd caramelo/"
      ],
      "execution_count": 2,
      "outputs": [
        {
          "output_type": "stream",
          "name": "stdout",
          "text": [
            "/content/caramelo\n"
          ]
        }
      ]
    },
    {
      "cell_type": "code",
      "metadata": {
        "id": "vl5_cxVLvank",
        "outputId": "32bad383-dfdd-4c7d-bf5c-1a45ff045b2c",
        "colab": {
          "base_uri": "https://localhost:8080/",
          "height": 252
        }
      },
      "source": [
        "%run -i 'etl_colab.py'"
      ],
      "execution_count": 16,
      "outputs": [
        {
          "output_type": "stream",
          "name": "stdout",
          "text": [
            "inicializar\n",
            "extraer codigo\n",
            "borrando duplicados en calificacion\n",
            "borrando duplicados en demograficos\n",
            "generar agregacion\n",
            "analisis demografico\n"
          ]
        },
        {
          "output_type": "stream",
          "name": "stderr",
          "text": [
            "100%|██████████| 208/208 [04:22<00:00,  1.26s/it]\n"
          ]
        },
        {
          "output_type": "stream",
          "name": "stdout",
          "text": [
            "limpieza\n"
          ]
        },
        {
          "output_type": "error",
          "ename": "SystemExit",
          "evalue": "ignored",
          "traceback": [
            "An exception has occurred, use %tb to see the full traceback.\n",
            "\u001b[0;31mSystemExit\u001b[0m\u001b[0;31m:\u001b[0m por favor revisar que las respuestas y las preguntas coincidan con los catalogos\n"
          ]
        }
      ]
    },
    {
      "cell_type": "code",
      "metadata": {
        "id": "ZJBkvlEB4LY6",
        "colab": {
          "base_uri": "https://localhost:8080/"
        },
        "outputId": "e96e9b4c-a81b-423b-c2e1-5da7151e477c"
      },
      "source": [
        "cd resultado/"
      ],
      "execution_count": 5,
      "outputs": [
        {
          "output_type": "stream",
          "name": "stdout",
          "text": [
            "/content/caramelo/resultado\n"
          ]
        }
      ]
    },
    {
      "cell_type": "code",
      "metadata": {
        "colab": {
          "base_uri": "https://localhost:8080/"
        },
        "id": "lIqulAEszN6Z",
        "outputId": "ee803f82-0fa9-4aea-f08d-f4d6e1079664"
      },
      "source": [
        "ls -la"
      ],
      "execution_count": 6,
      "outputs": [
        {
          "output_type": "stream",
          "name": "stdout",
          "text": [
            "total 564\n",
            "drwxr-xr-x 2 root root   4096 Aug 30 23:42 \u001b[0m\u001b[01;34m.\u001b[0m/\n",
            "drwxr-xr-x 9 root root   4096 Aug 30 23:38 \u001b[01;34m..\u001b[0m/\n",
            "-rw-r--r-- 1 root root    989 Aug 30 23:42 case_actuaciones.txt\n",
            "-rw-r--r-- 1 root root   2479 Aug 30 23:42 case_preguntas.txt\n",
            "-rw-r--r-- 1 root root 468364 Aug 30 23:42 correlacion_variables.csv\n",
            "-rw-r--r-- 1 root root  73692 Aug 30 23:42 id_puntajes.csv\n",
            "-rw-r--r-- 1 root root  13795 Aug 30 23:38 resultado.csv\n"
          ]
        }
      ]
    },
    {
      "cell_type": "code",
      "metadata": {
        "id": "vTX_uLhMlA4d"
      },
      "source": [
        "!zip resultado.zip resultado"
      ],
      "execution_count": null,
      "outputs": []
    }
  ]
}
